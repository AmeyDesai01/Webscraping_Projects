{
 "cells": [
  {
   "cell_type": "code",
   "execution_count": 55,
   "id": "dae2b5bd",
   "metadata": {},
   "outputs": [],
   "source": [
    "import pandas as pd\n",
    "import requests\n",
    "from bs4 import BeautifulSoup"
   ]
  },
  {
   "cell_type": "code",
   "execution_count": 56,
   "id": "690ebc6f",
   "metadata": {},
   "outputs": [],
   "source": [
    "Product_name = []\n",
    "Prices = []\n",
    "Description = []\n",
    "Reviews = []"
   ]
  },
  {
   "cell_type": "code",
   "execution_count": 60,
   "id": "f8e93aed",
   "metadata": {},
   "outputs": [],
   "source": [
    "for i in range(2,12):\n",
    "    url = \"https://www.flipkart.com/search?q=mobiles+under+20000&otracker=search&otracker1=search&marketplace=FLIPKART&as-show=on&as=off&page=1\"+str(i)\n",
    "    r = requests.get(url)\n",
    "    soup = BeautifulSoup(r.text, \"lxml\")\n",
    "    box = soup.find(\"div\", class_ = \"_1YokD2 _3Mn1Gg\")\n",
    "\n",
    "    names = box.find_all(\"div\", class_= \"_4rR01T\")\n",
    "\n",
    "    for i in names:\n",
    "        name = i.text\n",
    "        Product_name.append(name)\n",
    "\n",
    "    #print (Product_name)\n",
    "\n",
    "    prices = box.find_all(\"div\", class_= \"_30jeq3 _1_WHN1\")\n",
    "\n",
    "    for i in prices:\n",
    "        name= i.text\n",
    "        Prices.append(name)\n",
    "\n",
    "    #print(Prices)\n",
    "\n",
    "    desc = box.find_all(\"ul\",class_=\"_1xgFaf\")\n",
    "\n",
    "    for i in desc:\n",
    "        name = i.text\n",
    "        Description.append(name)\n",
    "\n",
    "    #print(Description)\n",
    "\n",
    "    reviews = box.find_all(\"div\",class_=\"_3LWZlK\")\n",
    "\n",
    "    for i in reviews:\n",
    "        name = i.text\n",
    "        Reviews.append(name)\n",
    "        \n",
    "max_length = max(len(Product_name), len(Prices), len(Description), len(Reviews)) #To calculates the maximum length among the four lists using the max function:\n",
    "\n",
    "Product_name += [''] * (max_length - len(Product_name))\n",
    "Prices += [''] * (max_length - len(Prices))\n",
    "Description += [''] * (max_length - len(Description))\n",
    "Reviews += [''] * (max_length - len(Reviews))          \n",
    "\n",
    "#By doing this, any lists that are shorter than the maximum length will be padded with empty strings to ensure all lists have the same length.\n",
    "#This step is necessary to create a consistent DataFrame since Pandas requires all columns to have the same length. \n",
    "#By adding empty strings to the shorter lists,the DataFrame can be constructed without encountering a ValueError due to mismatched lengths.\n",
    "    \n",
    "df = pd.DataFrame({\"Product Name\":Product_name,\"Prices\": Prices, \"Description\":Description, \"Reviews\": Reviews})\n",
    "\n",
    "#print(df)\n",
    "\n",
    "df.to_csv(\"/Users/ameydesai/Desktop/PycharmProjects/flipcart_mobiles_under_20000.csv\")\n"
   ]
  }
 ],
 "metadata": {
  "kernelspec": {
   "display_name": "Python 3 (ipykernel)",
   "language": "python",
   "name": "python3"
  },
  "language_info": {
   "codemirror_mode": {
    "name": "ipython",
    "version": 3
   },
   "file_extension": ".py",
   "mimetype": "text/x-python",
   "name": "python",
   "nbconvert_exporter": "python",
   "pygments_lexer": "ipython3",
   "version": "3.9.7"
  }
 },
 "nbformat": 4,
 "nbformat_minor": 5
}
